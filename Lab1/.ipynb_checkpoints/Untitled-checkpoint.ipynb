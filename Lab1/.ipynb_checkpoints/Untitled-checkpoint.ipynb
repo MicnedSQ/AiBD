{
 "cells": [
  {
   "cell_type": "markdown",
   "id": "f53075c8",
   "metadata": {},
   "source": [
    "<span style=\"font-size:30px\">\n",
    "    Michał Nedza\n",
    "</span>"
   ]
  },
  {
   "cell_type": "code",
   "execution_count": 65,
   "id": "57366009",
   "metadata": {},
   "outputs": [],
   "source": [
    "import matplotlib.pyplot as plt\n",
    "import numpy as np\n",
    "import pandas as pd"
   ]
  },
  {
   "cell_type": "markdown",
   "id": "536c264d",
   "metadata": {},
   "source": [
    "<span style=\"font-size:20px\">\n",
    "    Ćwiczenie 3\n",
    "</span>"
   ]
  },
  {
   "cell_type": "code",
   "execution_count": 8,
   "id": "57b5199f",
   "metadata": {},
   "outputs": [],
   "source": [
    "def fun(x):\n",
    "    return np.power(x, 2) + 5"
   ]
  },
  {
   "cell_type": "code",
   "execution_count": 61,
   "id": "aa9070e9",
   "metadata": {},
   "outputs": [],
   "source": [
    "x1 = np.linspace(-1, 1, 100)\n",
    "x2 = np.linspace(-6, 6, 100)\n",
    "x3 = np.linspace(0, 5, 100)\n",
    "\n",
    "function1 = fun(x1)\n",
    "function2 = fun(x2)\n",
    "function3 = fun(x3)"
   ]
  },
  {
   "cell_type": "code",
   "execution_count": 62,
   "id": "536d1887",
   "metadata": {},
   "outputs": [
    {
     "data": {
      "image/png": "[encoded data removed]",
      "text/plain": [
       "<Figure size 432x288 with 1 Axes>"
      ]
     },
     "metadata": {
      "needs_background": "light"
     },
     "output_type": "display_data"
    }
   ],
   "source": [
    "plt.plot(x2, function2, linewidth=4)\n",
    "plt.plot(x3, function3, linewidth=6)\n",
    "plt.plot(x1, function1, linewidth=8)\n",
    "plt.title(\"f(x) = x^2 + 5\", fontsize=15)\n",
    "plt.legend([\"x2\", \"x3\", \"x1\"])\n",
    "plt.xlabel(\"x\", fontsize=15)\n",
    "plt.ylabel(\"f(x)\", fontsize=15)\n",
    "plt.show()"
   ]
  },
  {
   "cell_type": "markdown",
   "id": "63159631",
   "metadata": {},
   "source": [
    "<span style=\"font-size:20px\">\n",
    "    Ćwiczenie 4\n",
    "</span>"
   ]
  },
  {
   "cell_type": "code",
   "execution_count": 69,
   "id": "9053c6e1",
   "metadata": {},
   "outputs": [
    {
     "name": "stdout",
     "output_type": "stream",
     "text": [
      "    name   surname  age sex\n",
      "0   Mark     Brown   12   M\n",
      "1  Emily  Williams   45   F\n",
      "2   Will  Hamilton   78   M\n",
      "3   Lisa    Wilson   21   F\n",
      "4   Jeff     Smith   33   M\n"
     ]
    }
   ],
   "source": [
    "data = {\"name\": [\"Mark\", \"Emily\", \"Will\", \"Lisa\", \"Jeff\"],\n",
    "        \"surname\": [\"Brown\", \"Williams\", \"Hamilton\", \"Wilson\", \"Smith\"],\n",
    "        \"age\": [12, 45, 78, 21, 33],\n",
    "        \"sex\": [\"M\", \"F\", \"M\", \"F\", \"M\"]}\n",
    "\n",
    "dataframe = pd.DataFrame(data=data)\n",
    "print(dataframe)"
   ]
  },
  {
   "cell_type": "code",
   "execution_count": 72,
   "id": "4bbf1ea9",
   "metadata": {},
   "outputs": [
    {
     "name": "stdout",
     "output_type": "stream",
     "text": [
      "<class 'pandas.core.frame.DataFrame'>\n",
      "RangeIndex: 5 entries, 0 to 4\n",
      "Data columns (total 4 columns):\n",
      " #   Column   Non-Null Count  Dtype \n",
      "---  ------   --------------  ----- \n",
      " 0   name     5 non-null      object\n",
      " 1   surname  5 non-null      object\n",
      " 2   age      5 non-null      int64 \n",
      " 3   sex      5 non-null      object\n",
      "dtypes: int64(1), object(3)\n",
      "memory usage: 288.0+ bytes\n"
     ]
    }
   ],
   "source": [
    "dataframe.info()"
   ]
  },
  {
   "cell_type": "code",
   "execution_count": 73,
   "id": "c81a61bf",
   "metadata": {},
   "outputs": [
    {
     "data": {
      "text/html": [
       "<div>\n",
       "<style scoped>\n",
       "    .dataframe tbody tr th:only-of-type {\n",
       "        vertical-align: middle;\n",
       "    }\n",
       "\n",
       "    .dataframe tbody tr th {\n",
       "        vertical-align: top;\n",
       "    }\n",
       "\n",
       "    .dataframe thead th {\n",
       "        text-align: right;\n",
       "    }\n",
       "</style>\n",
       "<table border=\"1\" class=\"dataframe\">\n",
       "  <thead>\n",
       "    <tr style=\"text-align: right;\">\n",
       "      <th></th>\n",
       "      <th>age</th>\n",
       "    </tr>\n",
       "  </thead>\n",
       "  <tbody>\n",
       "    <tr>\n",
       "      <th>count</th>\n",
       "      <td>5.000000</td>\n",
       "    </tr>\n",
       "    <tr>\n",
       "      <th>mean</th>\n",
       "      <td>37.800000</td>\n",
       "    </tr>\n",
       "    <tr>\n",
       "      <th>std</th>\n",
       "      <td>25.684626</td>\n",
       "    </tr>\n",
       "    <tr>\n",
       "      <th>min</th>\n",
       "      <td>12.000000</td>\n",
       "    </tr>\n",
       "    <tr>\n",
       "      <th>25%</th>\n",
       "      <td>21.000000</td>\n",
       "    </tr>\n",
       "    <tr>\n",
       "      <th>50%</th>\n",
       "      <td>33.000000</td>\n",
       "    </tr>\n",
       "    <tr>\n",
       "      <th>75%</th>\n",
       "      <td>45.000000</td>\n",
       "    </tr>\n",
       "    <tr>\n",
       "      <th>max</th>\n",
       "      <td>78.000000</td>\n",
       "    </tr>\n",
       "  </tbody>\n",
       "</table>\n",
       "</div>"
      ],
      "text/plain": [
       "             age\n",
       "count   5.000000\n",
       "mean   37.800000\n",
       "std    25.684626\n",
       "min    12.000000\n",
       "25%    21.000000\n",
       "50%    33.000000\n",
       "75%    45.000000\n",
       "max    78.000000"
      ]
     },
     "execution_count": 73,
     "metadata": {},
     "output_type": "execute_result"
    }
   ],
   "source": [
    "dataframe.describe()"
   ]
  },
  {
   "cell_type": "code",
   "execution_count": 75,
   "id": "6366f5bd",
   "metadata": {},
   "outputs": [
    {
     "data": {
      "text/html": [
       "<div>\n",
       "<style scoped>\n",
       "    .dataframe tbody tr th:only-of-type {\n",
       "        vertical-align: middle;\n",
       "    }\n",
       "\n",
       "    .dataframe tbody tr th {\n",
       "        vertical-align: top;\n",
       "    }\n",
       "\n",
       "    .dataframe thead th {\n",
       "        text-align: right;\n",
       "    }\n",
       "</style>\n",
       "<table border=\"1\" class=\"dataframe\">\n",
       "  <thead>\n",
       "    <tr style=\"text-align: right;\">\n",
       "      <th></th>\n",
       "      <th>name</th>\n",
       "      <th>surname</th>\n",
       "      <th>age</th>\n",
       "      <th>sex</th>\n",
       "    </tr>\n",
       "  </thead>\n",
       "  <tbody>\n",
       "    <tr>\n",
       "      <th>0</th>\n",
       "      <td>Mark</td>\n",
       "      <td>Brown</td>\n",
       "      <td>12</td>\n",
       "      <td>M</td>\n",
       "    </tr>\n",
       "    <tr>\n",
       "      <th>1</th>\n",
       "      <td>Emily</td>\n",
       "      <td>Williams</td>\n",
       "      <td>45</td>\n",
       "      <td>F</td>\n",
       "    </tr>\n",
       "    <tr>\n",
       "      <th>2</th>\n",
       "      <td>Will</td>\n",
       "      <td>Hamilton</td>\n",
       "      <td>78</td>\n",
       "      <td>M</td>\n",
       "    </tr>\n",
       "  </tbody>\n",
       "</table>\n",
       "</div>"
      ],
      "text/plain": [
       "    name   surname  age sex\n",
       "0   Mark     Brown   12   M\n",
       "1  Emily  Williams   45   F\n",
       "2   Will  Hamilton   78   M"
      ]
     },
     "execution_count": 75,
     "metadata": {},
     "output_type": "execute_result"
    }
   ],
   "source": [
    "dataframe.head(3)"
   ]
  },
  {
   "cell_type": "code",
   "execution_count": null,
   "id": "6d5a8bcf",
   "metadata": {},
   "outputs": [],
   "source": []
  }
 ],
 "metadata": {
  "kernelspec": {
   "display_name": "Python 3",
   "language": "python",
   "name": "python3"
  },
  "language_info": {
   "codemirror_mode": {
    "name": "ipython",
    "version": 3
   },
   "file_extension": ".py",
   "mimetype": "text/x-python",
   "name": "python",
   "nbconvert_exporter": "python",
   "pygments_lexer": "ipython3",
   "version": "3.8.8"
  }
 },
 "nbformat": 4,
 "nbformat_minor": 5
}
